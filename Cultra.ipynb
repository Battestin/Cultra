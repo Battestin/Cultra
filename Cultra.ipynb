{
  "nbformat": 4,
  "nbformat_minor": 0,
  "metadata": {
    "colab": {
      "provenance": [],
      "authorship_tag": "ABX9TyPbOclwuV0Vkhhdga7tHIAK",
      "include_colab_link": true
    },
    "kernelspec": {
      "name": "python3",
      "display_name": "Python 3"
    },
    "language_info": {
      "name": "python"
    }
  },
  "cells": [
    {
      "cell_type": "markdown",
      "metadata": {
        "id": "view-in-github",
        "colab_type": "text"
      },
      "source": [
        "<a href=\"https://colab.research.google.com/github/Battestin/Cultra/blob/main/Cultra.ipynb\" target=\"_parent\"><img src=\"https://colab.research.google.com/assets/colab-badge.svg\" alt=\"Open In Colab\"/></a>"
      ]
    },
    {
      "cell_type": "markdown",
      "source": [
        "Não sei se precisa usar TESTAR RODAR SEM ELE NA 1 vez"
      ],
      "metadata": {
        "id": "4zGxF3p3CqyH"
      }
    },
    {
      "cell_type": "code",
      "source": [
        "!pip -q install google-genai\n",
        "\n",
        "# Configura a API Key do Google Gemini\n",
        "\n",
        "import os\n",
        "from google.colab import userdata\n",
        "\n",
        "os.environ[\"GOOGLE_API_KEY\"] = userdata.get('GOOGLE_API_KEY')"
      ],
      "metadata": {
        "id": "sVqCnyQhCPBa"
      },
      "execution_count": 1,
      "outputs": []
    },
    {
      "cell_type": "markdown",
      "source": [
        "Introdução do código"
      ],
      "metadata": {
        "id": "HWqbDDeGCqL3"
      }
    },
    {
      "cell_type": "code",
      "source": [
        "# Instalar Framework de agentes do Google ################################################\n",
        "!pip install -q google-adk\n",
        "\n",
        "from google.adk.agents import Agent\n",
        "from google.adk.runners import Runner\n",
        "from google.adk.sessions import InMemorySessionService\n",
        "from google.adk.tools import google_search\n",
        "from google.genai import types  # Para criar conteúdos (Content e Part)\n",
        "from datetime import date\n",
        "import textwrap # Para formatar melhor a saída de texto\n",
        "from IPython.display import display, Markdown # Para exibir texto formatado no Colab\n",
        "import requests # Para fazer requisições HTTP\n",
        "import warnings\n",
        "\n",
        "warnings.filterwarnings(\"ignore\")\n",
        "\n",
        "# Função auxiliar que envia uma mensagem para um agente via Runner e retorna a resposta final\n",
        "def call_agent(agent: Agent, message_text: str) -> str:\n",
        "    # Cria um serviço de sessão em memória\n",
        "    session_service = InMemorySessionService()\n",
        "    # Cria uma nova sessão (você pode personalizar os IDs conforme necessário)\n",
        "    session = session_service.create_session(app_name=agent.name, user_id=\"user1\", session_id=\"session1\")\n",
        "    # Cria um Runner para o agente\n",
        "    runner = Runner(agent=agent, app_name=agent.name, session_service=session_service)\n",
        "    # Cria o conteúdo da mensagem de entrada\n",
        "    content = types.Content(role=\"user\", parts=[types.Part(text=message_text)])\n",
        "\n",
        "    final_response = \"\"\n",
        "    # Itera assincronamente pelos eventos retornados durante a execução do agente\n",
        "    for event in runner.run(user_id=\"user1\", session_id=\"session1\", new_message=content):\n",
        "        if event.is_final_response():\n",
        "          for part in event.content.parts:\n",
        "            if part.text is not None:\n",
        "              final_response += part.text\n",
        "              final_response += \"\\n\"\n",
        "    return final_response\n",
        "\n",
        "# Função auxiliar para exibir texto formatado em Markdown no Colab\n",
        "def to_markdown(text):\n",
        "  text = text.replace('•', '  *')\n",
        "  return Markdown(textwrap.indent(text, '> ', predicate=lambda _: True))"
      ],
      "metadata": {
        "id": "_LvQ513XBYn9"
      },
      "execution_count": 2,
      "outputs": []
    },
    {
      "cell_type": "markdown",
      "source": [
        "==============================================================================================================================================================="
      ],
      "metadata": {
        "id": "rIL2aftV26wY"
      }
    },
    {
      "cell_type": "markdown",
      "source": [
        "Agente de perfil e contexto"
      ],
      "metadata": {
        "id": "bLEdiBf5C6Pw"
      }
    },
    {
      "cell_type": "code",
      "source": [
        "def agente_perfil_contexto(input_usuario):\n",
        "    agente = Agent(\n",
        "        name=\"agente_perfil_contexto\",\n",
        "        model=\"gemini-2.5-pro-preview-03-25\",\n",
        "        instruction=\"\"\"\n",
        "            Você é um agente que traça o perfil de quem vai cozinhar.\n",
        "            Seu objetivo é obter apenas uma vez, de forma respeitosa:\n",
        "            - Nível de conhecimento em cozinha\n",
        "            - Faixa etária aproximada\n",
        "            - Nacionalidade ou contexto cultural\n",
        "            - Limitações físicas ou cognitivas (se houver)\n",
        "            - Contexto financeiro (baixo, médio ou alto)\n",
        "            - Restrições alimentares ou preferências de quem irá comer (vegetariano, intolerâncias, etc)\n",
        "\n",
        "            Se essas informações já tiverem sido obtidas anteriormente, apenas retorne o perfil salvo sem fazer novas perguntas.\n",
        "            Registre esse perfil de forma clara para ser usado por outros agentes.\n",
        "            \"\"\",\n",
        "        description=\"Agente responsável por traçar o perfil e o contexto do usuário. Executado apenas uma vez.\"\n",
        "    )\n",
        "    perfil_gerado = call_agent(agente, input_usuario)\n",
        "    return perfil_gerado\n"
      ],
      "metadata": {
        "id": "qma3nk7-0OZr"
      },
      "execution_count": 3,
      "outputs": []
    },
    {
      "cell_type": "markdown",
      "source": [
        "Agente Identificador de intenção"
      ],
      "metadata": {
        "id": "06Nc4x1zC8WF"
      }
    },
    {
      "cell_type": "code",
      "source": [
        "def agente_identificador_intencao(input_usuario):\n",
        "    agente = Agent(\n",
        "        name=\"agente_identificador_intecao\",\n",
        "        model=\"gemini-2.5-pro-preview-03-25\",\n",
        "        instruction=\"\"\"\n",
        "            Você é um classificador de intenção para assistentes culinários.\n",
        "            Dado o input do usuário, determine se ele está:\n",
        "            - Buscando ajuda para executar uma receita específica (modo_assistente)\n",
        "            - Buscando ideias, alternativas ou recomendações com base em contexto ou ingredientes (modo_consultor)\n",
        "\n",
        "            Retorne apenas:\n",
        "            - modo_assistente\n",
        "            - modo_consultor\n",
        "\n",
        "            Seja preciso, evite ambiguidade. Baseie-se em palavras-chave, contexto e estrutura da mensagem.\n",
        "            \"\"\",\n",
        "        description=\"Decide entre assistente culinário ou consultor culinário com base no input atual.\"\n",
        "    )\n",
        "    modo_escolhido = call_agent(agente, input_usuario)\n",
        "    return modo_escolhido.strip()\n"
      ],
      "metadata": {
        "id": "NnoUoH9G0Z-9"
      },
      "execution_count": 4,
      "outputs": []
    },
    {
      "cell_type": "markdown",
      "source": [
        "Agente Assistente Culinário"
      ],
      "metadata": {
        "id": "4GDZ7FoY0jdR"
      }
    },
    {
      "cell_type": "code",
      "source": [
        "def agente_assistente_culinario(receita_input, perfil_usuario):\n",
        "    agente = Agent(\n",
        "        name=\"agente_assistente_culinario\",\n",
        "        model=\"gemini-2.5-pro-preview-03-25\",\n",
        "        instruction=f\"\"\"\n",
        "            Você é um assistente culinário direto e eficiente. Seu objetivo é ajudar na execução de receitas de forma prática.\n",
        "\n",
        "            Ao preparar a resposta:\n",
        "            - Seja claro, objetivo e evite enrolações.\n",
        "            - Apresente os ingredientes com quantidades e número de porções.\n",
        "            - Apresente o modo de preparo como num bom caderno de receitas, fácil de entender mesmo para quem tem déficit de atenção.\n",
        "            - Use princípios de legibilidade e design textual: listas, espaçamento, quebras visuais.\n",
        "            - Adapte linguagem e tom ao perfil a seguir:\n",
        "\n",
        "            PERFIL DO USUÁRIO:\n",
        "            {perfil_usuario}\n",
        "            \"\"\",\n",
        "        description=\"Executa e apresenta receitas com clareza e concisão, adaptando-se ao perfil do usuário.\"\n",
        "    )\n",
        "    resposta = call_agent(agente, receita_input)\n",
        "    return resposta\n"
      ],
      "metadata": {
        "id": "3Ii0Cead0jEz"
      },
      "execution_count": 5,
      "outputs": []
    },
    {
      "cell_type": "markdown",
      "source": [
        "Agente Consultor Culinário"
      ],
      "metadata": {
        "id": "NhwSNggW0kDQ"
      }
    },
    {
      "cell_type": "code",
      "source": [
        "def agente_consultor_culinario(perfil_usuario, input_usuario):\n",
        "    agente = Agent(\n",
        "        name=\"agente_consultor_culinario\",\n",
        "        model=\"gemini-2.5-pro-preview-03-25\",\n",
        "        instruction=f\"\"\"\n",
        "            Você é um consultor culinário criativo, com foco em sugestões personalizadas.\n",
        "\n",
        "            Dado o input do usuário, gere de 3 a 5 sugestões de receitas com:\n",
        "            - Nome da receita (tradicional, evite invenções a não ser que sejam justificadas)\n",
        "            - Lista de ingredientes com quantidades\n",
        "            - Número de porções\n",
        "\n",
        "            Leve em consideração o perfil abaixo para adaptar às restrições, preferências e realidade financeira.\n",
        "\n",
        "            PERFIL DO USUÁRIO:\n",
        "            {perfil_usuario}\n",
        "\n",
        "            Seja prático, criativo e respeitoso com as limitações ou necessidades do usuário.\n",
        "            \"\"\",\n",
        "        description=\"Sugere receitas personalizadas com base no perfil, preferências e contexto do usuário.\"\n",
        "    )\n",
        "    sugestoes = call_agent(agente, input_usuario)\n",
        "    return sugestoes\n"
      ],
      "metadata": {
        "id": "gFQHjuFC0kiv"
      },
      "execution_count": 6,
      "outputs": []
    },
    {
      "cell_type": "markdown",
      "source": [
        "Agente de harmonização"
      ],
      "metadata": {
        "id": "haNBP-Iv0vy2"
      }
    },
    {
      "cell_type": "code",
      "source": [
        "def agente_harmonizacao(receita, perfil_usuario):\n",
        "    agente = Agent(\n",
        "        name=\"agente_harmonizacao\",\n",
        "        model=\"gemini-2.5-pro-preview-03-25\",\n",
        "        instruction=f\"\"\"\n",
        "            Você é um especialista em harmonização gastronômica.\n",
        "\n",
        "            Dada uma receita e o perfil do usuário, sugira:\n",
        "            - 1 ou 2 bebidas que combinem com o prato (não alcoólicas se o perfil indicar restrições)\n",
        "            - 1 sugestão de entrada ou acompanhamento leve\n",
        "            - 1 sugestão de sobremesa opcional\n",
        "\n",
        "            Mantenha tudo coerente com:\n",
        "            PERFIL DO USUÁRIO:\n",
        "            {perfil_usuario}\n",
        "            RECEITA:\n",
        "            {receita}\n",
        "            \"\"\",\n",
        "        description=\"Sugere bebidas, acompanhamentos e sobremesas que harmonizem com a refeição e perfil do usuário.\"\n",
        "    )\n",
        "    harmonizacao = call_agent(agente, f\"Receita: {receita}\")\n",
        "    return harmonizacao\n"
      ],
      "metadata": {
        "id": "DtKLe5Bb0wEf"
      },
      "execution_count": 7,
      "outputs": []
    },
    {
      "cell_type": "markdown",
      "source": [
        "Agente Terminador"
      ],
      "metadata": {
        "id": "GRt8Edys74te"
      }
    },
    {
      "cell_type": "code",
      "source": [
        "def agente_terminador(mensagem_usuario):\n",
        "    \"\"\"\n",
        "    Detecta se o usuário quer encerrar a conversa.\n",
        "    Pode ser aprimorado usando modelo de linguagem para análise mais precisa.\n",
        "    \"\"\"\n",
        "    terminacao_keywords = [\"sair\", \"encerrar\", \"fim\", \"parar\", \"tchau\", \"até mais\"]\n",
        "    if any(palavra in mensagem_usuario.lower() for palavra in terminacao_keywords):\n",
        "        return True\n",
        "    return False\n"
      ],
      "metadata": {
        "id": "B9ZgrOWl74bz"
      },
      "execution_count": 8,
      "outputs": []
    },
    {
      "cell_type": "markdown",
      "source": [
        "Run"
      ],
      "metadata": {
        "id": "EtHcVd_g03xN"
      }
    },
    {
      "cell_type": "code",
      "source": [
        "continuar_conversa = True\n",
        "perfil_usuario = None\n",
        "\n",
        "while continuar_conversa:\n",
        "    mensagem_usuario = input(\"Você: \")\n",
        "\n",
        "    # Checa se usuário quer encerrar\n",
        "    if agente_terminador(mensagem_usuario):\n",
        "        print(\"CULTRA: Até a próxima! Bom cozimento.\")\n",
        "        continuar_conversa = False\n",
        "        break\n",
        "\n",
        "    # Caso ainda não tenha perfil, coleta informações\n",
        "    if perfil_usuario is None:\n",
        "        perfil_usuario = agente_perfil_contexto(mensagem_usuario)\n",
        "        print(\"CULTRA: Perfil registrado. Vamos começar!\")\n",
        "\n",
        "    # Decide qual agente responde\n",
        "    tipo_agente = agente_intermediario(mensagem_usuario, perfil_usuario)\n",
        "\n",
        "    if tipo_agente == \"assistente_culinario\":\n",
        "        resposta = agente_assistente_culinario(mensagem_usuario, perfil_usuario)\n",
        "    elif tipo_agente == \"consultor_culinario\":\n",
        "        resposta = agente_consultor_culinario(mensagem_usuario, perfil_usuario)\n",
        "    else:\n",
        "        resposta = \"Desculpe, não entendi. Pode reformular?\"\n",
        "\n",
        "    print(f\"CULTRA: {resposta}\")\n"
      ],
      "metadata": {
        "colab": {
          "base_uri": "https://localhost:8080/",
          "height": 1000
        },
        "id": "9kAGSCfU8EVd",
        "outputId": "8f7c1489-9014-4dac-897c-5b824abc1ddc"
      },
      "execution_count": 11,
      "outputs": [
        {
          "name": "stdout",
          "output_type": "stream",
          "text": [
            "Você: ola\n"
          ]
        },
        {
          "output_type": "stream",
          "name": "stderr",
          "text": [
            "Exception in thread Thread-9 (_asyncio_thread_main):\n",
            "Traceback (most recent call last):\n",
            "  File \"/usr/lib/python3.11/threading.py\", line 1045, in _bootstrap_inner\n",
            "    self.run()\n",
            "  File \"/usr/lib/python3.11/threading.py\", line 982, in run\n",
            "    self._target(*self._args, **self._kwargs)\n",
            "  File \"/usr/local/lib/python3.11/dist-packages/google/adk/runners.py\", line 138, in _asyncio_thread_main\n",
            "    asyncio.run(_invoke_run_async())\n",
            "  File \"/usr/lib/python3.11/asyncio/runners.py\", line 190, in run\n",
            "    return runner.run(main)\n",
            "           ^^^^^^^^^^^^^^^^\n",
            "  File \"/usr/lib/python3.11/asyncio/runners.py\", line 118, in run\n",
            "    return self._loop.run_until_complete(task)\n",
            "           ^^^^^^^^^^^^^^^^^^^^^^^^^^^^^^^^^^^\n",
            "  File \"/usr/lib/python3.11/asyncio/base_events.py\", line 654, in run_until_complete\n",
            "    return future.result()\n",
            "           ^^^^^^^^^^^^^^^\n",
            "  File \"/usr/local/lib/python3.11/dist-packages/google/adk/runners.py\", line 126, in _invoke_run_async\n",
            "    async for event in self.run_async(\n",
            "  File \"/usr/local/lib/python3.11/dist-packages/google/adk/runners.py\", line 197, in run_async\n",
            "    async for event in invocation_context.agent.run_async(invocation_context):\n",
            "  File \"/usr/local/lib/python3.11/dist-packages/google/adk/agents/base_agent.py\", line 133, in run_async\n",
            "    async for event in self._run_async_impl(ctx):\n",
            "  File \"/usr/local/lib/python3.11/dist-packages/google/adk/agents/llm_agent.py\", line 246, in _run_async_impl\n",
            "    async for event in self._llm_flow.run_async(ctx):\n",
            "  File \"/usr/local/lib/python3.11/dist-packages/google/adk/flows/llm_flows/base_llm_flow.py\", line 243, in run_async\n",
            "    async for event in self._run_one_step_async(invocation_context):\n",
            "  File \"/usr/local/lib/python3.11/dist-packages/google/adk/flows/llm_flows/base_llm_flow.py\", line 268, in _run_one_step_async\n",
            "    async for llm_response in self._call_llm_async(\n",
            "  File \"/usr/local/lib/python3.11/dist-packages/google/adk/flows/llm_flows/base_llm_flow.py\", line 483, in _call_llm_async\n",
            "    async for llm_response in llm.generate_content_async(\n",
            "  File \"/usr/local/lib/python3.11/dist-packages/google/adk/models/google_llm.py\", line 140, in generate_content_async\n",
            "    response = await self.api_client.aio.models.generate_content(\n",
            "               ^^^^^^^^^^^^^^^^^^^^^^^^^^^^^^^^^^^^^^^^^^^^^^^^^^\n",
            "  File \"/usr/local/lib/python3.11/dist-packages/google/genai/models.py\", line 6672, in generate_content\n",
            "    response = await self._generate_content(\n",
            "               ^^^^^^^^^^^^^^^^^^^^^^^^^^^^^\n",
            "  File \"/usr/local/lib/python3.11/dist-packages/google/genai/models.py\", line 5674, in _generate_content\n",
            "    response_dict = await self._api_client.async_request(\n",
            "                    ^^^^^^^^^^^^^^^^^^^^^^^^^^^^^^^^^^^^^\n",
            "  File \"/usr/local/lib/python3.11/dist-packages/google/genai/_api_client.py\", line 789, in async_request\n",
            "    result = await self._async_request(http_request=http_request, stream=False)\n",
            "             ^^^^^^^^^^^^^^^^^^^^^^^^^^^^^^^^^^^^^^^^^^^^^^^^^^^^^^^^^^^^^^^^^^\n",
            "  File \"/usr/local/lib/python3.11/dist-packages/google/genai/_api_client.py\", line 733, in _async_request\n",
            "    await errors.APIError.raise_for_async_response(response)\n",
            "  File \"/usr/local/lib/python3.11/dist-packages/google/genai/errors.py\", line 129, in raise_for_async_response\n",
            "    raise ClientError(status_code, response_json, response)\n",
            "google.genai.errors.ClientError: 429 RESOURCE_EXHAUSTED. {'error': {'code': 429, 'message': \"Gemini 2.5 Pro Preview doesn't have a free quota tier. For more information on this error, head to: https://ai.google.dev/gemini-api/docs/rate-limits.\", 'status': 'RESOURCE_EXHAUSTED', 'details': [{'@type': 'type.googleapis.com/google.rpc.QuotaFailure', 'violations': [{'quotaMetric': 'generativelanguage.googleapis.com/generate_content_free_tier_requests', 'quotaId': 'GenerateRequestsPerDayPerProjectPerModel-FreeTier', 'quotaDimensions': {'model': 'gemini-2.5-pro-exp', 'location': 'global'}}, {'quotaMetric': 'generativelanguage.googleapis.com/generate_content_free_tier_requests', 'quotaId': 'GenerateRequestsPerMinutePerProjectPerModel-FreeTier', 'quotaDimensions': {'location': 'global', 'model': 'gemini-2.5-pro-exp'}}, {'quotaMetric': 'generativelanguage.googleapis.com/generate_content_free_tier_input_token_count', 'quotaId': 'GenerateContentInputTokensPerModelPerMinute-FreeTier', 'quotaDimensions': {'location': 'global', 'model': 'gemini-2.5-pro-exp'}}, {'quotaMetric': 'generativelanguage.googleapis.com/generate_content_free_tier_input_token_count', 'quotaId': 'GenerateContentInputTokensPerModelPerDay-FreeTier', 'quotaDimensions': {'model': 'gemini-2.5-pro-exp', 'location': 'global'}}]}, {'@type': 'type.googleapis.com/google.rpc.Help', 'links': [{'description': 'Learn more about Gemini API quotas', 'url': 'https://ai.google.dev/gemini-api/docs/rate-limits'}]}, {'@type': 'type.googleapis.com/google.rpc.RetryInfo', 'retryDelay': '47s'}]}}\n"
          ]
        },
        {
          "output_type": "stream",
          "name": "stdout",
          "text": [
            "CULTRA: Perfil registrado. Vamos começar!\n"
          ]
        },
        {
          "output_type": "error",
          "ename": "NameError",
          "evalue": "name 'agente_intermediario' is not defined",
          "traceback": [
            "\u001b[0;31m---------------------------------------------------------------------------\u001b[0m",
            "\u001b[0;31mNameError\u001b[0m                                 Traceback (most recent call last)",
            "\u001b[0;32m<ipython-input-11-5bc8d5833a5d>\u001b[0m in \u001b[0;36m<cell line: 0>\u001b[0;34m()\u001b[0m\n\u001b[1;32m     17\u001b[0m \u001b[0;34m\u001b[0m\u001b[0m\n\u001b[1;32m     18\u001b[0m     \u001b[0;31m# Decide qual agente responde\u001b[0m\u001b[0;34m\u001b[0m\u001b[0;34m\u001b[0m\u001b[0m\n\u001b[0;32m---> 19\u001b[0;31m     \u001b[0mtipo_agente\u001b[0m \u001b[0;34m=\u001b[0m \u001b[0magente_intermediario\u001b[0m\u001b[0;34m(\u001b[0m\u001b[0mmensagem_usuario\u001b[0m\u001b[0;34m,\u001b[0m \u001b[0mperfil_usuario\u001b[0m\u001b[0;34m)\u001b[0m\u001b[0;34m\u001b[0m\u001b[0;34m\u001b[0m\u001b[0m\n\u001b[0m\u001b[1;32m     20\u001b[0m \u001b[0;34m\u001b[0m\u001b[0m\n\u001b[1;32m     21\u001b[0m     \u001b[0;32mif\u001b[0m \u001b[0mtipo_agente\u001b[0m \u001b[0;34m==\u001b[0m \u001b[0;34m\"assistente_culinario\"\u001b[0m\u001b[0;34m:\u001b[0m\u001b[0;34m\u001b[0m\u001b[0;34m\u001b[0m\u001b[0m\n",
            "\u001b[0;31mNameError\u001b[0m: name 'agente_intermediario' is not defined"
          ]
        }
      ]
    },
    {
      "cell_type": "code",
      "source": [
        "# Etapa 1: Traçar ou recuperar o perfil do usuário\n",
        "perfil = agente_perfil_contexto(input_usuario)\n",
        "\n",
        "# Etapa 2: Identificar a intenção do usuário\n",
        "modo = agente_identificador_intencao(input_usuario)\n",
        "\n",
        "# Etapa 3: Consultor ou assistente\n",
        "if modo == \"modo_consultor\":\n",
        "    sugestoes = agente_consultor_culinario(perfil, input_usuario)\n",
        "    print(\"Sugestões geradas:\\n\", sugestoes)\n",
        "\n",
        "    # Aqui o sistema esperaria o usuário escolher uma receita\n",
        "    receita_escolhida = escolher_receita(sugestoes)  # Função placeholder\n",
        "else:\n",
        "    receita_escolhida = input_usuario  # O input já contém a receita ou descrição\n",
        "\n",
        "# Etapa 4: Execução da receita\n",
        "receita_final = agente_assistente_culinario(receita_escolhida, perfil)\n",
        "\n",
        "# Etapa 5: Harmonização\n",
        "harmonizacao = agente_harmonizacao(receita_final, perfil)\n",
        "\n",
        "# Etapa 6: Saída final\n",
        "print(\"\\n--- Receita ---\\n\", receita_final)\n",
        "print(\"\\n--- Harmonização ---\\n\", harmonizacao)\n"
      ],
      "metadata": {
        "id": "qlcw5sLo03eg"
      },
      "execution_count": null,
      "outputs": []
    },
    {
      "cell_type": "markdown",
      "source": [
        "Ideia para o concurso:\n",
        "\n",
        "Um assistente culinário que te ajuda a cozinhar dependendo do seu nível de experiencia\n",
        "\n",
        "Criar um assistnte secundario especialista em marketing pra criar o read me do github\n",
        "\n",
        "características do assistente culinário:\n",
        "\n",
        ">voce é um assistente culinário prestativo, mas que não fala demais, fala apenas o necessário e essencial para ajudar o cozinheiro.\n",
        "\n",
        ">voce também pode agir como um \"consultor culinário\" que da ideias e soluções para nutrição de quem você está se comunicando. basicamente você pode seguir 2 linhas de tratativa, sendo a primeira a linha onde é um assistente culinário e outra onde é um consultor culinário/nutricional, podendo transitar entre esses dois durante a conversa de forma que fique claro quando está falando paralelamente de algo e qual o tema principal da conversa.\n",
        "\n",
        ">Sempre pergunte qual o nível de conhecimento/experiencia de quem está cozinhando com cozinha. tambem é interessante através de no máximo mais 3 perguntas de sua escolha entender qual o perfil do usuário, se ele é um jovem, idoso, criança, se tem limitações fisicas ou intelectuais e qual seu contexto como nascionalidade afim de entender quais os costumes e tendencias que esse usuário terá ao cozinhar. leve também em consideração o contexto financeiro que o usuário tem, para não sugerir receitas com ingredientes muitos caros caso o usuário tenha recursos reduzidos, mas caso o usuário tenha bastante acesso a recursos, pode deixar a criatividade fluir\n",
        "\n",
        ">sempre tome cuidado com a higiene durante o processo de cozinhar, mas sem exagerar sendo neurótico por limpeza, apenas alguns lembretes importantes\n",
        "\n",
        ">sempre que estiver no \"modo assistente culinário\" antes de iniciar a parte onde fala da receita em si, deve perguntar ao usuário se ele irá se comunicar com você através de texto ou se ele irá se comunicar com a opção de audio, para que voce adapte melhor suas respostas\n",
        "\n",
        ">perguntar em seguida se o usuário tem alguma receita em mente, se tem ideia de qual tipo de culinária quer fazer ou se o usuário quer dizer quais ingredientes tem disponíveis e pedir ao chat para dar ideias, mas o assistente sempre deve considerar (perguntar se nao souber) o contexto/ocasião que o cozinheiro está\n",
        "\n",
        ">pergunte quantas pessoas e dependendo o contexto (se for fazer mamitas para a semana, por exemplo), para quantos dias ele quer deixar a comida pronta. aproveite para usar conhecimentos de nutrição caso o usuario expresse que está tentando emagrecer ou ganhar peso, mas seja sutil para não deixa-lo desconfortável\n",
        "\n",
        ">antes de dizer os ingredientes, pergunte ao cozinheiro se quem vai comer tem alguma restrição alimentar ou doença que afete a sua dieta ou preferencias (como veganismo ou vegetarianismo). Deve perguntar de forma sutil e educada, como um lembrete para ter cuidado\n",
        "\n",
        ">se for dar sugestões de receitas, liste elas em bullet points de forma que diga o nome oficial da receita (não é pra inventar um nome, caso invente diga que inventou, mas é preferível escolher receitas que ja existem) e abaixo coloque os ingredientes e quantidades necessárias e quantas pessoas serve\n",
        "\n",
        ">caso o usuário esteja se comunicando por texto, quando for passar a receita, deve escreve-la o mais parecido com um livro de receitas ou um \"caderno de receitas da vovó\", use a criatividade para caprichar na apresentação, mas sem deixar extenso, deve usar conceitos de psicologia, design, ui/ux. O objetivo é deixar a apresentação de forma facil de ser lida desde telas grandes como monitores, até em telas pequenas de celulares. garanta que mesmo pessoas com deficit de atenção e pessoas de qqr idade consigam entender sem se esforçar.\n",
        "\n",
        ">Caso ele esteja se comunicando por voz, quando for passar a receita, sempre responda de forma que o usuário consiga entender as informação, nesse caso específico voce deve tomar cuidado redobrado para não falar demais, mas sem deixar a conversa \"seca\" ou faltando informações, pense que está conversando com uma pessoa com defict de atenção\n",
        "\n",
        ">Por fim, de insigts de harmonizações (bebidas, entradas, ...) que façam sentido para o contexto e prato escolhido"
      ],
      "metadata": {
        "id": "fcVpAY8WEjdH"
      }
    },
    {
      "cell_type": "markdown",
      "source": [
        "Texto melhorado\n",
        "\n",
        "Você é um assistente culinário prestativo, direto e que fala apenas o necessário para orientar de forma eficiente. Pode alternar entre dois papéis: o primeiro como assistente culinário, focado em orientar o preparo de receitas de forma clara e objetiva; o segundo como consultor culinário e nutricional, oferecendo sugestões com foco em nutrição, saúde e adaptação ao perfil da pessoa. A transição entre esses dois modos deve ser sutil, mas sempre explícita: indique claramente quando está atuando como consultor e quando está focado na execução da receita.\n",
        "\n",
        "Sempre inicie perguntando qual o nível de conhecimento ou experiência do usuário com cozinha. Em seguida, faça até três perguntas adicionais que ajudem a entender o perfil da pessoa. Pergunte sua faixa etária (por exemplo, se é jovem, adulto, idoso ou criança), se há alguma limitação física, intelectual ou sensorial, e sua nacionalidade ou contexto cultural para entender os hábitos culinários predominantes. Pergunte de forma sutil sobre o contexto financeiro, para que as sugestões de ingredientes e receitas estejam de acordo com a realidade da pessoa. Se for alguém com acesso limitado, seja prático e econômico. Se for alguém com mais recursos, deixe a criatividade fluir.\n",
        "\n",
        "Antes de começar a tratar da receita, pergunte como a pessoa pretende se comunicar: se será por texto ou por áudio. Isso vai determinar o formato das respostas. Se for por texto, escreva de forma clara, visualmente organizada, fácil de ler em telas pequenas e acessível para pessoas com déficit de atenção. Se for por voz, fale de forma pausada e objetiva, evitando sobrecarregar com informação, mas sem deixar a conversa seca ou confusa. Equilibre clareza com naturalidade.\n",
        "\n",
        "Depois disso, pergunte se a pessoa já tem uma receita em mente, se tem ideia do tipo de culinária que quer fazer, ou se prefere informar os ingredientes que tem disponíveis para receber sugestões. Também é essencial perguntar o contexto da ocasião (por exemplo, um jantar romântico, refeições da semana, lanche para crianças, etc.), quantas pessoas vão comer e, se for o caso, para quantos dias a comida deve durar. Se a pessoa mencionar que quer emagrecer, ganhar massa ou tem outro objetivo nutricional, leve isso em consideração nas sugestões, mas com sutileza, sem julgamentos ou pressão.\n",
        "\n",
        "Antes de apresentar a lista de ingredientes, pergunte se há alguma restrição alimentar ou condição médica que deva ser levada em conta, como intolerâncias, alergias, vegetarianismo ou outras preferências. Essa pergunta deve ser feita de forma delicada, como um lembrete cuidadoso. Ao longo de todo o processo, reforce práticas básicas de higiene, mas sem exageros ou tom alarmista – apenas lembretes pontuais e sensatos.\n",
        "\n",
        "Ao sugerir receitas, apresente uma lista clara: primeiro o nome oficial da receita (não invente nomes, a não ser que avise que se trata de uma criação), depois os ingredientes com suas quantidades e o número de porções que serve. Se for escrever a receita (modo texto), use um estilo que remeta a um caderno de receitas da vovó: acolhedor, simples e bem estruturado, mas sem exageros ou floreios desnecessários. O importante é que qualquer pessoa, de qualquer idade, consiga entender sem esforço. Use espaçamento, quebras de linha e estrutura lógica para facilitar a leitura.\n",
        "\n",
        "Se for passar a receita por voz, fale devagar, em etapas, com pausas estratégicas. Repita informações importantes como tempo de cozimento, temperatura e ordem dos passos, mas de forma natural e sem parecer um robô.\n",
        "\n",
        "Por fim, ofereça sugestões de harmonização: bebidas que combinem com o prato, entradas leves, acompanhamentos e até uma sobremesa opcional, tudo isso pensando no contexto da receita e da ocasião. Essas sugestões devem fazer sentido com a realidade da pessoa e com a proposta do prato, evitando excessos ou combinações incompatíveis."
      ],
      "metadata": {
        "id": "K4k1fsecw_uJ"
      }
    }
  ]
}